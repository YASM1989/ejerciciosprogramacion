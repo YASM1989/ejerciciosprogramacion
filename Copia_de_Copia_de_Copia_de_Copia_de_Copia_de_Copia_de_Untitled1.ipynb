{
  "nbformat": 4,
  "nbformat_minor": 0,
  "metadata": {
    "colab": {
      "provenance": [],
      "authorship_tag": "ABX9TyN30WH20m9iqqeFKXzROgZz",
      "include_colab_link": true
    },
    "kernelspec": {
      "name": "python3",
      "display_name": "Python 3"
    },
    "language_info": {
      "name": "python"
    }
  },
  "cells": [
    {
      "cell_type": "markdown",
      "metadata": {
        "id": "view-in-github",
        "colab_type": "text"
      },
      "source": [
        "<a href=\"https://colab.research.google.com/github/YASM1989/ejerciciosprogramacion/blob/main/Copia_de_Copia_de_Copia_de_Copia_de_Copia_de_Copia_de_Untitled1.ipynb\" target=\"_parent\"><img src=\"https://colab.research.google.com/assets/colab-badge.svg\" alt=\"Open In Colab\"/></a>"
      ]
    },
    {
      "cell_type": "code",
      "execution_count": null,
      "metadata": {
        "colab": {
          "base_uri": "https://localhost:8080/"
        },
        "id": "CIBZTfq_TVSP",
        "outputId": "3cfc0e02-bfb2-4384-dd86-8c0339b0b851"
      },
      "outputs": [
        {
          "output_type": "stream",
          "name": "stdout",
          "text": [
            "Hola mundo\n"
          ]
        }
      ],
      "source": [
        "print(\"Hola mundo\")"
      ]
    },
    {
      "cell_type": "markdown",
      "source": [
        "# **Varibles**"
      ],
      "metadata": {
        "id": "hUlR3taDZLfG"
      }
    },
    {
      "cell_type": "code",
      "source": [
        "NombreP = \"Carlos Diaz\"\n",
        "print(NombreP)"
      ],
      "metadata": {
        "colab": {
          "base_uri": "https://localhost:8080/"
        },
        "id": "GECTpH43ZWjI",
        "outputId": "17bab634-5d49-483b-87b8-adf744d3ae34"
      },
      "execution_count": null,
      "outputs": [
        {
          "output_type": "stream",
          "name": "stdout",
          "text": [
            "Carlos Diaz\n"
          ]
        }
      ]
    },
    {
      "cell_type": "markdown",
      "source": [
        "**EDAD**"
      ],
      "metadata": {
        "id": "fv6OoA_mbgws"
      }
    },
    {
      "cell_type": "markdown",
      "source": [],
      "metadata": {
        "id": "Rg4Fv_WhcNSF"
      }
    },
    {
      "cell_type": "code",
      "source": [
        "edad = 22\n",
        "print(edad)\n",
        "edad = \"Diana Velez\"\n",
        "print (edad)"
      ],
      "metadata": {
        "colab": {
          "base_uri": "https://localhost:8080/"
        },
        "id": "finXfKOibpLG",
        "outputId": "628ecd4f-c8d0-4a94-8b54-049a02e31dbd"
      },
      "execution_count": null,
      "outputs": [
        {
          "output_type": "stream",
          "name": "stdout",
          "text": [
            "22\n",
            "Diana Velez\n"
          ]
        }
      ]
    },
    {
      "cell_type": "code",
      "source": [
        "val = True\n",
        "print(val)"
      ],
      "metadata": {
        "colab": {
          "base_uri": "https://localhost:8080/"
        },
        "id": "zbyjlqGFBtGZ",
        "outputId": "53a7d118-9483-41ac-a282-486f1b8815e1"
      },
      "execution_count": null,
      "outputs": [
        {
          "output_type": "stream",
          "name": "stdout",
          "text": [
            "True\n"
          ]
        }
      ]
    },
    {
      "cell_type": "markdown",
      "source": [],
      "metadata": {
        "id": "mUdQOrW1cPP7"
      }
    },
    {
      "cell_type": "code",
      "source": [
        "nombreP = \" Carlos\"\n",
        "apellido = \"Diaz\"\n",
        "\n",
        "print (nombreP + \" \" + apellido)\n",
        "print( nombreP * 6)"
      ],
      "metadata": {
        "colab": {
          "base_uri": "https://localhost:8080/"
        },
        "id": "sPZPv96bCOZw",
        "outputId": "81e58678-aa83-445f-db38-054c846910be"
      },
      "execution_count": null,
      "outputs": [
        {
          "output_type": "stream",
          "name": "stdout",
          "text": [
            " Carlos Diaz\n",
            " Carlos Carlos Carlos Carlos Carlos Carlos\n"
          ]
        }
      ]
    },
    {
      "cell_type": "markdown",
      "source": [
        "## **COMENTARIOS**"
      ],
      "metadata": {
        "id": "nNlYAe7VD6Fu"
      }
    },
    {
      "cell_type": "markdown",
      "source": [
        "1. Documentación\n",
        "2. Pruebas\n"
      ],
      "metadata": {
        "id": "GO6JjgD3EOwf"
      }
    },
    {
      "cell_type": "code",
      "source": [
        "# Variable para almacenar el teléfono\n",
        "telefono = 3112022585\n",
        "nombre = \"Daian Velex\"\n",
        "# Muestra el valor de la variable telefono\n",
        "print(telefono)\n",
        "print(nombre)"
      ],
      "metadata": {
        "colab": {
          "base_uri": "https://localhost:8080/"
        },
        "id": "J3PdAHRMEZK0",
        "outputId": "2c934451-fdf5-42c0-98dd-7c6c371df4e4"
      },
      "execution_count": null,
      "outputs": [
        {
          "output_type": "stream",
          "name": "stdout",
          "text": [
            "3112022585\n",
            "Daian Velex\n"
          ]
        }
      ]
    },
    {
      "cell_type": "code",
      "source": [
        "nombrePer = input(\"Digite su nombre: \")\n",
        "print(nombrePer)"
      ],
      "metadata": {
        "colab": {
          "base_uri": "https://localhost:8080/"
        },
        "id": "ghsZD_JzHYAl",
        "outputId": "ec988ba9-5199-40e9-bf06-7dbbed5864e2"
      },
      "execution_count": null,
      "outputs": [
        {
          "output_type": "stream",
          "name": "stdout",
          "text": [
            "Digite su nombre: yasson\n",
            "yasson\n"
          ]
        }
      ]
    },
    {
      "cell_type": "code",
      "source": [
        "# Variable para almacenar Número de identificación\n",
        "Número_de_identificación = input(\"Número_de_identificación: \")\n",
        "print(Número_de_identificación)\n",
        "# Variable para almacenar Nombres\n",
        "Nombres = input(\"Nombres: \")\n",
        "print(Nombres)\n",
        "# Variable para almacenar Apellidos\n",
        "Apellidos = input(\"Apellidos: \")\n",
        "print(Apellidos)\n",
        "# Variable para almacenar Dirección\n",
        "Dirección = input(\"Dirección: \")\n",
        "print(Dirección)\n",
        "# Variable para almacenar Teléfono\n",
        "Teléfono = input(\"Teléfono: \")\n",
        "print(Teléfono)\n",
        "# Variable para alamcenar Edad\n",
        "Edad = input(\"Edad: \")\n",
        "print(Edad)\n",
        "# Variable para almacenar Estado Civil\n",
        "Estado_Civil = input(\"Estado_Civil: \")\n",
        "print(Estado_Civil)\n",
        "# Variable para almacenar Número_de_hijos\n",
        "Número_de_hijos = input(\"Número_de_hijos: \")\n",
        "print(Número_de_hijos)\n",
        "# Variable para almacenar Estatura_en_Centímetros\n",
        "Estatura_en_Centímetros = input(\"Estatura_en_Centímetros: \")\n",
        "print(Estatura_en_Centímetros)\n",
        "# Variable para almacenar Fecha_de_Contratación_día_mes_año\n",
        "Fecha_de_Contratación_día_mes_año = input(\"Fecha_de_Contratación_día_mes_año\")\n",
        "print(Fecha_de_Contratación_día_mes_año)\n",
        "# Variable para almacenar Sueldo_Básico\n",
        "Sueldo_Básico = input(\"Sueldo_Básico\")\n",
        "print(Sueldo_Básico)\n",
        "# Variable para almacenar Días_Laborados\n",
        "Días_Laborados = input(\"Días_Laborados\")\n",
        "print(Días_Laborados)"
      ],
      "metadata": {
        "colab": {
          "base_uri": "https://localhost:8080/"
        },
        "id": "VsSfLJ8-6Gq0",
        "outputId": "b57a5e1a-29ed-4cfa-f5e4-b2b516388e5b"
      },
      "execution_count": null,
      "outputs": [
        {
          "output_type": "stream",
          "name": "stdout",
          "text": [
            "Número_de_identificación: 80074183\n",
            "80074183\n",
            "Nombres: Yasson Andrés\n",
            "Yasson Andrés\n",
            "Apellidos: Santos Madrigal\n",
            "Santos Madrigal\n",
            "Dirección: Cra 18A 4A 36\n",
            "Cra 18A 4A 36\n",
            "Teléfono: 3006110331\n",
            "3006110331\n",
            "Edad: 38\n",
            "38\n",
            "Estado_Civil: Soltero\n",
            "Soltero\n",
            "Número_de_hijos: 0\n",
            "0\n",
            "Estatura_en_Centímetros: 170 Cms.\n",
            "170 Cms.\n",
            "Fecha_de_Contratación_día_mes_año27/'2/2023\n",
            "27/'2/2023\n",
            "Sueldo_Básico14.000.000\n",
            "14.000.000\n",
            "Días_Laborados30\n",
            "30\n"
          ]
        }
      ]
    },
    {
      "cell_type": "markdown",
      "source": [
        "# **OPERADORES MATEMATICOS EN PYTHON**"
      ],
      "metadata": {
        "id": "fFfDrxpfuR4s"
      }
    },
    {
      "cell_type": "code",
      "source": [
        "num1 = 7\n",
        "num2 = 6\n",
        "res = num1 + num2\n",
        "print(res)"
      ],
      "metadata": {
        "colab": {
          "base_uri": "https://localhost:8080/"
        },
        "id": "yWUivLKxp1Zv",
        "outputId": "06df40e1-a67b-432b-906f-278bd1d40a89"
      },
      "execution_count": null,
      "outputs": [
        {
          "output_type": "stream",
          "name": "stdout",
          "text": [
            "13\n"
          ]
        }
      ]
    },
    {
      "cell_type": "code",
      "source": [
        "#Por default (input)=#enteros siempre me captura -> Datos tipo Strik (Concatena Información)\n",
        "num1 = input(\"Digite el número1: \")\n",
        "num2 = input(\"Digite el número2: \")\n",
        "res = num1 + num2\n",
        "print(res)"
      ],
      "metadata": {
        "colab": {
          "base_uri": "https://localhost:8080/"
        },
        "id": "m7E-rK7duhYq",
        "outputId": "044c754e-5ac2-487e-e62a-faa5fad11622"
      },
      "execution_count": null,
      "outputs": [
        {
          "output_type": "stream",
          "name": "stdout",
          "text": [
            "Digite el número1: 2\n",
            "Digite el número2: Carlos\n",
            "2Carlos\n"
          ]
        }
      ]
    },
    {
      "cell_type": "code",
      "source": [
        "#Por default input siempre me captura -> con (int). QUEDA DESHABILITADA Y AHORA INTERPRETA o VALIDA LA INFO SOLICITADA SEA NUMERICA \n",
        "num1 = int(input(\"Digite el número1: \")) \n",
        "num2 = int(input(\"Digite el número2: \")) \n",
        "res = num1 + num2\n",
        "print(res)"
      ],
      "metadata": {
        "colab": {
          "base_uri": "https://localhost:8080/"
        },
        "id": "fzWk5aBlszMd",
        "outputId": "409080db-dd79-4384-ee56-df2dd036eae7"
      },
      "execution_count": null,
      "outputs": [
        {
          "output_type": "stream",
          "name": "stdout",
          "text": [
            "Digite el número1: 8\n",
            "Digite el número2: 9\n",
            "17\n"
          ]
        }
      ]
    },
    {
      "cell_type": "code",
      "source": [
        "#Por default input siempre me captura -> con Float es un formato de salida de datos en este caso numeros como:  \n",
        "num1 = float(input(\"Digite el número1: \"))\n",
        "num2 = float(input(\"Digite el número2: \"))\n",
        "res = num1 + num2\n",
        "print(res)"
      ],
      "metadata": {
        "colab": {
          "base_uri": "https://localhost:8080/"
        },
        "id": "VT0CW7BKt3ig",
        "outputId": "07920dda-0012-4318-d527-39813f0e14c0"
      },
      "execution_count": null,
      "outputs": [
        {
          "output_type": "stream",
          "name": "stdout",
          "text": [
            "Digite el número1: 1.2\n",
            "Digite el número2: 2.5\n",
            "3.7\n"
          ]
        }
      ]
    },
    {
      "cell_type": "code",
      "source": [
        "#Por default input siempre me captura ->(str) es redundante y se puede llevar a cabo con(int) |.format =formato de salida de datos   \n",
        "num1 = int(input(\"Digite el número1: \")) \n",
        "num2 = int(input(\"Digite el número2: \")) \n",
        "res = num1 + num2\n",
        "print(\"El resultado es= {}\".format(res))"
      ],
      "metadata": {
        "colab": {
          "base_uri": "https://localhost:8080/"
        },
        "id": "xlhif4wTvPZl",
        "outputId": "603d0333-09a7-4622-ba0d-7e66df275bbf"
      },
      "execution_count": null,
      "outputs": [
        {
          "output_type": "stream",
          "name": "stdout",
          "text": [
            "Digite el número1: 2\n",
            "Digite el número2: 3\n",
            "El resultado es= 5\n"
          ]
        }
      ]
    },
    {
      "cell_type": "code",
      "source": [
        "#Por default input siempre me captura ->(str) es redundante y se puede llevar a cabo con(int) |.format =formato de salida de datos   \n",
        "num1 = int(input(\"Digite el número1: \")) \n",
        "num2 = int(input(\"Digite el número2: \")) \n",
        "res = num1 + num2\n",
        "print(\"La suma entre {} y {} es= {}\".format(num1, num2, res))"
      ],
      "metadata": {
        "colab": {
          "base_uri": "https://localhost:8080/"
        },
        "id": "es7gT9GQxSKr",
        "outputId": "56f86c22-f2ce-4b82-d6a7-5131f070a1b9"
      },
      "execution_count": null,
      "outputs": [
        {
          "output_type": "stream",
          "name": "stdout",
          "text": [
            "Digite el número1: 2\n",
            "Digite el número2: 3\n",
            "La suma entre 2 y 3 es= 5\n"
          ]
        }
      ]
    },
    {
      "cell_type": "code",
      "source": [
        "#El comando corto de (format) es f y esta línea de escritura cumple ejecuta lo mismo   \n",
        "num1 = int(input(\"Digite el número1: \")) \n",
        "num2 = int(input(\"Digite el número2: \")) \n",
        "res = num1 + num2\n",
        "print(f\"La suma entre {num1} y {num2} es= {res}\")"
      ],
      "metadata": {
        "colab": {
          "base_uri": "https://localhost:8080/"
        },
        "id": "2JPGgfdCyAXO",
        "outputId": "5c5960ca-e4dd-4cda-c295-0eebe32cbb89"
      },
      "execution_count": null,
      "outputs": [
        {
          "output_type": "stream",
          "name": "stdout",
          "text": [
            "Digite el número1: 2\n",
            "Digite el número2: 3\n",
            "La suma entre 2 y 3 es= 5\n"
          ]
        }
      ]
    },
    {
      "cell_type": "markdown",
      "source": [
        "# Calculadora +*/- **texto en negrita**"
      ],
      "metadata": {
        "id": "bvRwMBNA0I_w"
      }
    },
    {
      "cell_type": "code",
      "source": [
        "num1 = int(input(\"Digite el número 1: \"))\n",
        "num2 = int(input(\"Digite el número 2: \"))\n",
        "\n",
        "suma = num1 + num2\n",
        "resta = num1 - num2\n",
        "multi = num1 * num2\n",
        "divi = num1 / num2\n",
        "#Ahora con format\n",
        "\n",
        "#suma\n",
        "print(\"El resultado de la Suma es= {}\".format(suma))"
      ],
      "metadata": {
        "id": "XnZupBFD1I6b",
        "colab": {
          "base_uri": "https://localhost:8080/"
        },
        "outputId": "81ca5f12-3c35-4e84-c484-8a397037daec"
      },
      "execution_count": null,
      "outputs": [
        {
          "output_type": "stream",
          "name": "stdout",
          "text": [
            "Digite el número 1: 10\n",
            "Digite el número 2: 5\n",
            "El resultado de la Suma es= 15\n"
          ]
        }
      ]
    },
    {
      "cell_type": "code",
      "source": [
        "#resta\n",
        "\n",
        "print(\"El resultado de la resta es= {}\".format(resta))"
      ],
      "metadata": {
        "colab": {
          "base_uri": "https://localhost:8080/"
        },
        "id": "3W2uWVcG1M5b",
        "outputId": "5b327252-9c3f-4186-eac2-16ba40fe80c4"
      },
      "execution_count": null,
      "outputs": [
        {
          "output_type": "stream",
          "name": "stdout",
          "text": [
            "El resultado de la resta es= 5\n"
          ]
        }
      ]
    },
    {
      "cell_type": "code",
      "source": [
        "#multi\n",
        "\n",
        "print(\"El resultado de la multiplicación es= {}\".format(multi))"
      ],
      "metadata": {
        "colab": {
          "base_uri": "https://localhost:8080/"
        },
        "id": "A7uAA-9K1joU",
        "outputId": "908464c9-3ae4-4109-fdb3-6ee0185f5db5"
      },
      "execution_count": null,
      "outputs": [
        {
          "output_type": "stream",
          "name": "stdout",
          "text": [
            "El resultado de la multiplicación es= 50\n"
          ]
        }
      ]
    },
    {
      "cell_type": "code",
      "source": [
        "#divi\n",
        "\n",
        "print(\"El resultado de la divi es= {}\".format(divi))"
      ],
      "metadata": {
        "colab": {
          "base_uri": "https://localhost:8080/"
        },
        "id": "yB2VCIUi1o1q",
        "outputId": "d79bb558-2c2b-4a51-a99c-a03c9c0f5429"
      },
      "execution_count": null,
      "outputs": [
        {
          "output_type": "stream",
          "name": "stdout",
          "text": [
            "El resultado de la divi es= 2.0\n"
          ]
        }
      ]
    },
    {
      "cell_type": "markdown",
      "source": [
        "# **TALLER EN CLASE**"
      ],
      "metadata": {
        "id": "eT01pmcn1z_C"
      }
    },
    {
      "cell_type": "markdown",
      "source": [
        "Se recibe una venta por concepto de un producto se requiere aplicar el iva (19%) y concoer el total a pagar con el iva incluido\n"
      ],
      "metadata": {
        "id": "a1DYiDZF1_Em"
      }
    },
    {
      "cell_type": "code",
      "source": [
        "# variable para capturar la venta\n",
        "venta = float (input(\"¿Cuánto fue el total de la compra?\"))\n",
        "#Cálculo del iva\n",
        "iva = venta *0.19\n",
        "#Suma del iva y el valor de la venta \n",
        "total = venta + iva\n",
        "# Muestro por pantalla el total con el iva\n",
        "print(\"EL IVA es = ${:,.0f} y el total a pagar es = ${:,.0f}\".format(iva,total))"
      ],
      "metadata": {
        "colab": {
          "base_uri": "https://localhost:8080/"
        },
        "id": "uH5AicNg2TU-",
        "outputId": "7a800cc0-8b77-4a0a-aa41-31985b08fe74"
      },
      "execution_count": null,
      "outputs": [
        {
          "output_type": "stream",
          "name": "stdout",
          "text": [
            "¿Cuánto fue el total de la compra?900000\n",
            "EL IVA es = $171,000 y el total a pagar es = $1,071,000\n"
          ]
        }
      ]
    },
    {
      "cell_type": "markdown",
      "source": [
        "Se requiere conocer el promedio general de una materia que está dada por tres \n",
        "\n",
        "*   Elemento de lista\n",
        "*   Elemento de lista\n",
        "\n",
        "calificaciones\n"
      ],
      "metadata": {
        "id": "UfpV-0Km4MxQ"
      }
    },
    {
      "cell_type": "code",
      "source": [
        "cal1 = float(input(\"Digite la calificación 1: \"))\n",
        "cal2 = float(input(\"Digite la calificación 2: \"))\n",
        "cal3 = float(input(\"Digite la calificación 3: \"))\n",
        "\n",
        "prom = round((cal1 + cal2 +cal3) / 3,2)\n",
        "\n",
        "print (f\"El promedio es= {prom}\")"
      ],
      "metadata": {
        "colab": {
          "base_uri": "https://localhost:8080/"
        },
        "id": "0Q_IdkrF4X-h",
        "outputId": "e536edd1-06cb-411e-fc7f-abe3cadd0a1e"
      },
      "execution_count": null,
      "outputs": [
        {
          "output_type": "stream",
          "name": "stdout",
          "text": [
            "Digite la calificación 1: 2.2\n",
            "Digite la calificación 2: 3.7\n",
            "Digite la calificación 3: 4.5\n",
            "El promedio es= 3.47\n"
          ]
        }
      ]
    },
    {
      "cell_type": "code",
      "source": [],
      "metadata": {
        "id": "dh-ySb_p19bd"
      },
      "execution_count": null,
      "outputs": []
    },
    {
      "cell_type": "markdown",
      "source": [
        "# **TALLER REFUERZO SESIÓN**\n",
        "1.\n",
        "Un vendedor recibe un sueldo base más un 10% extra por\n",
        "comisión de sus ventas, el vendedor desea saber cuánto\n",
        "dinero obtendrá por concepto de comisiones por las tres\n",
        "ventas que realiza en el mes y el total que recibirá en\n",
        "el mes tomando en cuenta su sueldo base y comisiones."
      ],
      "metadata": {
        "id": "NET_zpQfI8-q"
      }
    },
    {
      "cell_type": "code",
      "source": [
        "venta1 = float(input(\"Digite la venta1: \"))\n",
        "venta2 = float(input(\"Digite la venta2: \"))\n",
        "venta3 = float(input(\"Digite la venta3: \"))\n",
        "\n",
        "total_comisión = round((venta1*0.10 + venta2*0.10 +venta3*0.10))\n",
        "\n",
        "#suma\n",
        "print(\"Comisión total es= {}\".format(total_comisión))\n",
        "\n",
        "# variable para capturar salario base\n",
        "salario_base = float (input(\"¿salario base asesor?\"))\n",
        "\n",
        "#Suma del total comisión y salario base \n",
        "total = total_comisión + salario_base\n",
        "\n",
        "# Muestro por pantalla el total con el iva\n",
        "print(\"La comisión total a pagar es = ${:,.0f} y el neto total (salario+comisón) a pagar es = ${:,.0f}\".format(total_comisión,total))\n"
      ],
      "metadata": {
        "colab": {
          "base_uri": "https://localhost:8080/"
        },
        "id": "esXmVj04ac7J",
        "outputId": "dfedefe4-2d67-489d-ba9d-5668e3eef931"
      },
      "execution_count": null,
      "outputs": [
        {
          "output_type": "stream",
          "name": "stdout",
          "text": [
            "Digite la venta1: 100000\n",
            "Digite la venta2: 100000\n",
            "Digite la venta3: 100000\n",
            "Comisión total es= 30000\n",
            "¿salario base asesor?1000000\n",
            "La comisión total a pagar es = $30,000 y el neto total (salario+comisón) a pagar es = $1,030,000\n"
          ]
        }
      ]
    },
    {
      "cell_type": "markdown",
      "source": [
        "2. **Una tienda ofrece un descuento del 15% sobre el total\n",
        "de la compra y un cliente desea saber cuánto deberá\n",
        "pagar finalmente por su compra**"
      ],
      "metadata": {
        "id": "-k-IoTrDeOX-"
      }
    },
    {
      "cell_type": "code",
      "source": [
        "# variable para capturar la venta\n",
        "venta = float (input(\"¿Cuánto fue el total de la compra?\"))\n",
        "#Cálculo del descuento\n",
        "Dcto = venta *0.15\n",
        "#Resta del descuento y el valor de la venta \n",
        "total = venta - Dcto\n",
        "# Muestro por pantalla el total con el iva\n",
        "print(\"El Dcto es = ${:,.0f} y el total a pagar es = ${:,.0f}\".format(Dcto,total))"
      ],
      "metadata": {
        "colab": {
          "base_uri": "https://localhost:8080/"
        },
        "id": "YSG8ZFwueNnu",
        "outputId": "c3cebba4-abac-4c9f-bbe1-bca0caf8ab5a"
      },
      "execution_count": null,
      "outputs": [
        {
          "output_type": "stream",
          "name": "stdout",
          "text": [
            "¿Cuánto fue el total de la compra?1000000\n",
            "El Dcto es = $150,000 y el total a pagar es = $850,000\n"
          ]
        }
      ]
    },
    {
      "cell_type": "markdown",
      "source": [
        "Se necesita un sistema para un supermercado, el cual dará un 10% de descuento a las personas que compren más de $1000000 de lo contrario no dará ningún descuento, al cliente se ñe debe de dar el total a pagar. Condicional.\n",
        "\n",
        "**${:,0f}** es nuestro formato de contabilidad."
      ],
      "metadata": {
        "id": "ntT1YrHzcUe2"
      }
    },
    {
      "cell_type": "code",
      "source": [
        " compra = float(input(\"¿Cuanto fue el total de compra?: $\"))\n",
        "\n",
        "if compra > 1000000:\n",
        "  descu = compra * 0.10\n",
        "  total = compra - descu\n",
        "  print(\"El descuento es= ${:,.0f} y el total de la compra es= ${:,.0f}\".format(descu, total))\n",
        "else:\n",
        "  print(\"No tiene descuento, el total a pagar es= ${:,.0f}\".format(compra))"
      ],
      "metadata": {
        "colab": {
          "base_uri": "https://localhost:8080/"
        },
        "id": "XXx8KUztdAEV",
        "outputId": "4b9f99f6-c424-4a11-c366-2f1f49d18587"
      },
      "execution_count": null,
      "outputs": [
        {
          "output_type": "stream",
          "name": "stdout",
          "text": [
            "¿Cuanto fue el total de compra?: $1200000\n",
            "El descuento es= $120,000 y el total de la compra es= $1,080,000\n"
          ]
        }
      ]
    },
    {
      "cell_type": "markdown",
      "source": [
        "3. **Un alumno desea saber cuál será su calificación final en\n",
        "la materia de Algoritmos. Dicha calificación se compone\n",
        "de tres exámenes parciales.**"
      ],
      "metadata": {
        "id": "1eMTc_VGfT6-"
      }
    },
    {
      "cell_type": "code",
      "source": [
        "Nota1 = float(input(\"Digite la calificación 1: \"))\n",
        "Nota2 = float(input(\"Digite la calificación 2: \"))\n",
        "Nota3 = float(input(\"Digite la calificación 3: \"))\n",
        "\n",
        "prom = round((Nota1 + Nota2 +Nota3) / 3,2)\n",
        "\n",
        "print (f\"El promedio es= {prom}\")"
      ],
      "metadata": {
        "id": "-__Ny6iLfcg9"
      },
      "execution_count": null,
      "outputs": []
    },
    {
      "cell_type": "markdown",
      "source": [
        "4.**Un maestro desea saber qué porcentaje de hombres y que\n",
        "porcentaje de mujeres hay en un grupo de estudiantes.**"
      ],
      "metadata": {
        "id": "Bi9tWvMkfp0x"
      }
    },
    {
      "cell_type": "code",
      "source": [
        "# variable para capturar total mujeres\n",
        "mujeres= float (input(\"¿Ingresa total mujeres del grupo?\"))\n",
        "\n",
        "# variable para capturar total hombre\n",
        "hombres= float (input(\"¿Ingresa total hombres del grupo?\"))\n",
        "\n",
        "print(\"El porcentaje de mujeres del grupo es:\",(mujeres/(mujeres + hombres))* 100)\n",
        "\n",
        "print(\"El porcentaje de hombres del grupo es:\",(hombres/(mujeres + hombres))* 100)\n"
      ],
      "metadata": {
        "colab": {
          "base_uri": "https://localhost:8080/"
        },
        "id": "-T2mYcL1fxw6",
        "outputId": "6627f086-a2cf-46cb-c9be-1989395cb73d"
      },
      "execution_count": null,
      "outputs": [
        {
          "output_type": "stream",
          "name": "stdout",
          "text": [
            "¿Ingresa total mujeres del grupo?8\n",
            "¿Ingresa total hombres del grupo?2\n",
            "El porcentaje de mujeres del grupo es: 80.0\n",
            "El porcentaje de hombres del grupo es: 20.0\n"
          ]
        }
      ]
    },
    {
      "cell_type": "markdown",
      "source": [
        "# ***SENTENCIAS CONDICIONALES EN PYTHON***\n"
      ],
      "metadata": {
        "id": "hFmyysWA6Is1"
      }
    },
    {
      "cell_type": "code",
      "source": [
        "#Comparativo de fuerte igualdad (==)\n",
        "num1 = 4\n",
        "num2 = 6\n",
        "\n",
        "if num1 == num2:\n",
        "\n",
        "  print(\"Los números son iguales\")\n",
        "else:\n",
        "  print(\"Los números NO son iguales\")\n",
        "\n"
      ],
      "metadata": {
        "colab": {
          "base_uri": "https://localhost:8080/"
        },
        "id": "_F3-HA5-6TEr",
        "outputId": "1f4cbdd1-5358-41b0-fe59-2726c43c7433"
      },
      "execution_count": null,
      "outputs": [
        {
          "output_type": "stream",
          "name": "stdout",
          "text": [
            "Los números NO son iguales\n"
          ]
        }
      ]
    },
    {
      "cell_type": "markdown",
      "source": [
        "Otro ejemplo de comparación"
      ],
      "metadata": {
        "id": "5NlP_Vt3uqc6"
      }
    },
    {
      "cell_type": "code",
      "source": [
        "usuario = input(\"Digite su usuario: \")\n",
        "passrowd = input(\"Digite su contraseña: \")\n",
        "if usuario == \"carlosd\":\n",
        "\n",
        "  print(\"El usario es correcto!\")\n",
        "else:\n",
        "  print(\"El usuario es incorrecto!\")\n"
      ],
      "metadata": {
        "colab": {
          "base_uri": "https://localhost:8080/"
        },
        "id": "pNTqgrsK7u5S",
        "outputId": "609bcce4-b248-4cc9-da97-6c42fa5cae1e"
      },
      "execution_count": null,
      "outputs": [
        {
          "output_type": "stream",
          "name": "stdout",
          "text": [
            "Digite su usuariocarlosd\n",
            "El uusario es correcto!\n"
          ]
        }
      ]
    },
    {
      "cell_type": "markdown",
      "source": [
        "## **OPERADORES RELACIONALES** "
      ],
      "metadata": {
        "id": "l_N9eD8d1POg"
      }
    },
    {
      "cell_type": "markdown",
      "source": [
        "**>** mayor que, **<** menor que,  **>=** mayor o igual que, **==** extrictamente igual que, **!=** diferente que, ambos debe ser iguales **and**, uno de los debe ser Verdadero **or**, **in** texto inmerso en otro"
      ],
      "metadata": {
        "id": "OVJhFIjfwWQt"
      }
    },
    {
      "cell_type": "code",
      "source": [
        " num = int(input(\"Digite el número: \"))\n",
        "\n",
        " if num > 20:\n",
        "    print(\"El número es mayor a 20\")\n",
        " elif num > 15:\n",
        "   print(\"El número es mayor a 15\")\n",
        " elif num > 10:\n",
        "   print(\"El número es mayor a 10\")\n",
        " elif num > 5:\n",
        "   print(\"El número es mayor a 5\")\n",
        " else:\n",
        "    print(\"No se cumple ninguna condición!!!\")"
      ],
      "metadata": {
        "colab": {
          "base_uri": "https://localhost:8080/"
        },
        "id": "cXtQIWJwyfy-",
        "outputId": "67f37fdb-30e6-46e1-a7d9-d3901d896892"
      },
      "execution_count": null,
      "outputs": [
        {
          "output_type": "stream",
          "name": "stdout",
          "text": [
            "Digite el número: 2\n",
            "No se cumple ninguna condición!!!\n"
          ]
        }
      ]
    },
    {
      "cell_type": "markdown",
      "source": [
        "# **Ejemplo condicionales**"
      ],
      "metadata": {
        "id": "DSQQ9dca4CbB"
      }
    },
    {
      "cell_type": "code",
      "source": [
        "edad = int(input(\"Digite su edad: \"))\n",
        "\n",
        "if edad >= 13 and edad < 20:\n",
        "  print(\"Eres un Adolescente\")\n",
        "else:\n",
        "  Print(\"NO eres un Adolescente\")"
      ],
      "metadata": {
        "colab": {
          "base_uri": "https://localhost:8080/"
        },
        "id": "LpjrPxXN4H-O",
        "outputId": "a72caca1-d94d-4064-815a-50090dcca742"
      },
      "execution_count": null,
      "outputs": [
        {
          "output_type": "stream",
          "name": "stdout",
          "text": [
            "Digite su edad: 17\n",
            "Eres un Adolescente\n"
          ]
        }
      ]
    },
    {
      "cell_type": "markdown",
      "source": [
        "# **EL OPERADOR (in)** Habla del  inmerso ej en este caso se busca la condicional con (if) este inmersa en (in) la variable (...) y no admite datos NUMERICOS SOLO TEXTOO \n"
      ],
      "metadata": {
        "id": "3Lr7OJxp8WLL"
      }
    },
    {
      "cell_type": "code",
      "source": [
        "palabra = input(\"Digite la palabra: \")\n",
        "\n",
        "if palabra in \"lina catalina\": \n",
        "  print(\"Verdadero!!\")\n",
        "else:\n",
        "  print(\"falso--\")"
      ],
      "metadata": {
        "colab": {
          "base_uri": "https://localhost:8080/"
        },
        "id": "vaVe_1Vb7eTz",
        "outputId": "b78e2b2e-ee35-4e1c-db9e-b7f930a793fe"
      },
      "execution_count": null,
      "outputs": [
        {
          "output_type": "stream",
          "name": "stdout",
          "text": [
            "Digite la palabra: cata\n",
            "Verdadero!!\n"
          ]
        }
      ]
    },
    {
      "cell_type": "markdown",
      "source": [
        "# **Taller 2:**\n",
        "\n",
        "Dando continuidad con la primer entrega del proyecto, en esta oportunidad el estuiante debe relizar las siguientes validaciones utilizando la sentencia condicional if.\n",
        "1. Si el empleado es mayor de 55 años disfrutará de un bono preprensión correspondiente al 5% de su suelto básico.\n",
        "2. Si el empleado es casado y tiene hijos se le otorgará un paseo cada diciembre.\n",
        "3. Si el sueldo básico está entre 1000000 y 1500000 tendrá una comisión del 2% sobre el valor del sueldo; si el sueldo básico está entre 1500001 y 2000000 tendrá una comisión del 5% sobre el valor del sueldo; para todos los demás casos no habrá comisión.\n",
        "4. Si el empleado trabajó más de 20 días al mes y su sueldo es menor a 1000000 tendrá derecho a un bono de alimentación."
      ],
      "metadata": {
        "id": "GnThdw7PafiG"
      }
    },
    {
      "cell_type": "code",
      "source": [
        "edad = float(input(\"Digite la edad: \"))\n",
        "salario = float(input(\"Digite el salario: $\"))\n",
        "\n",
        "bono = (salario*0.05)\n",
        "\n",
        "#suma\n",
        "print(\"Bono prepensional total es= {}\".format(bono))\n",
        "\n",
        "#Suma del total comisión y salario base \n",
        "total = bono + salario\n",
        "\n",
        "if edad >= 55:\n",
        "# Muestro por pantalla el total con bono prepensional\n",
        " print(\"Usted es mayor de 55 años y el bono prepensional a pagar es = ${:,.0f} y el neto total (salario+bono) a pagar es = ${:,.0f}\".format(bono,total))\n",
        "\n",
        "else:\n",
        " print(\"Usted NO es mayor de 55 años, el total a pagar es= ${:,.0f}\".format(salario))"
      ],
      "metadata": {
        "id": "_g2YiHH1b-7s"
      },
      "execution_count": null,
      "outputs": []
    },
    {
      "cell_type": "code",
      "source": [
        "estado_civil = input(\"Digite su estado_civil: \")\n",
        "num_hijos = int(input(\"Digite su num_hijos : \"))\n",
        "\n",
        "#condicional\n",
        "if estado_civil == \"casado\" and num_hijos > 0:\n",
        "  print(\"Obtienes paseo en diciembre\")\n",
        "else:\n",
        "  print(\"NO Obtienes paseo en diciembre\")"
      ],
      "metadata": {
        "id": "4xD7HKg5ipXO"
      },
      "execution_count": null,
      "outputs": []
    },
    {
      "cell_type": "code",
      "source": [
        "#variable captura sueldo_basico\n",
        "sueldo_basico = float(input(\"Digite el sueldo_basico: $\"))\n",
        "\n",
        "#condicional\n",
        "if sueldo_basico >= 1000000 and sueldo_basico <= 1500000:\n",
        "  comision = sueldo_basico * 0.02\n",
        "  salario_total = sueldo_basico + comision\n",
        "  print(\"El sueldo_basico es de ${:,.0f}, por lo anterior tiene una comision de ${:,.0f} y el salario_total a pagar es de ${:,.0f}\".format(sueldo_basico,comision,salario_total))\n",
        "elif sueldo_basico >= 1500001 and sueldo_basico <= 2000000:\n",
        "  comision = sueldo_basico * 0.05\n",
        "  salario_total = sueldo_basico + comision\n",
        "  print(\"El sueldo_basico es de ${:,.0f}, por lo anterior tiene una comision de ${:,.0f} y el salario_total a pagar es de ${:,.0f}\".format(sueldo_basico,comision,salario_total))\n",
        "else:\n",
        "  print(\"El sueldo_basico es de ${:,.0f}, por lo anterior NO tiene comision\" .format(sueldo_basico))"
      ],
      "metadata": {
        "id": "fnsSAtyalPBw"
      },
      "execution_count": null,
      "outputs": []
    },
    {
      "cell_type": "code",
      "source": [
        "#variable captura sueldo_basico\n",
        "sueldo = float(input(\"Digite el sueldo empleado: $\"))\n",
        "dias_laborados = int(input(\"Digite dias laborados por el empleado: \")) \n",
        "\n",
        "#condicional\n",
        "if sueldo <= 1000000 and dias_laborados >= 20:\n",
        "  print(\"Por trabajar {} dias del mes y devengar un salario de ${:,.0f} usted tiene derecho a un bono de alimentacion\".format(dias_laborados,sueldo))\n",
        "else:\n",
        "  print(\"Usted no tiene derecho a bono de alimentación\")"
      ],
      "metadata": {
        "id": "rW_NADwC4KjU"
      },
      "execution_count": null,
      "outputs": []
    },
    {
      "cell_type": "markdown",
      "source": [
        "# ***CICLOS REPETITIVOS***"
      ],
      "metadata": {
        "id": "1nQXEDg5AAXz"
      }
    },
    {
      "cell_type": "markdown",
      "source": [
        "# **CICLO FOR**"
      ],
      "metadata": {
        "id": "IdrW7TKWAHlx"
      }
    },
    {
      "cell_type": "markdown",
      "source": [
        "como imprime con **[ ]**"
      ],
      "metadata": {
        "id": "yiMhfm31BqTx"
      }
    },
    {
      "cell_type": "code",
      "source": [
        "for w in [1234]:\n",
        "  print(w)"
      ],
      "metadata": {
        "colab": {
          "base_uri": "https://localhost:8080/"
        },
        "id": "fmcb3o9iALP-",
        "outputId": "153e9d71-fa63-42d4-ee43-0b6d29fa042c"
      },
      "execution_count": null,
      "outputs": [
        {
          "output_type": "stream",
          "name": "stdout",
          "text": [
            "1234\n"
          ]
        }
      ]
    },
    {
      "cell_type": "markdown",
      "source": [
        "Como se itera con **( )**"
      ],
      "metadata": {
        "id": "o6R1pY9WB7ba"
      }
    },
    {
      "cell_type": "code",
      "source": [
        "for w in (1,2,3,4):\n",
        "  print (w)"
      ],
      "metadata": {
        "colab": {
          "base_uri": "https://localhost:8080/"
        },
        "id": "vvZEwIV0A0z2",
        "outputId": "691be0c3-6f2a-497f-f8f4-898cfcb43efb"
      },
      "execution_count": null,
      "outputs": [
        {
          "output_type": "stream",
          "name": "stdout",
          "text": [
            "1\n",
            "2\n",
            "3\n",
            "4\n"
          ]
        }
      ]
    },
    {
      "cell_type": "markdown",
      "source": [
        "# Como se itera con **\" \"** sirve textual"
      ],
      "metadata": {
        "id": "GjDWcb8sCAXV"
      }
    },
    {
      "cell_type": "code",
      "source": [
        "for w in \"1,2,3,4\":\n",
        "  print (w)"
      ],
      "metadata": {
        "colab": {
          "base_uri": "https://localhost:8080/"
        },
        "id": "MLCltR9DBL92",
        "outputId": "6ce45d94-1a8a-41c4-b9e6-b7dd337727cc"
      },
      "execution_count": null,
      "outputs": [
        {
          "output_type": "stream",
          "name": "stdout",
          "text": [
            "1\n",
            ",\n",
            "2\n",
            ",\n",
            "3\n",
            ",\n",
            "4\n"
          ]
        }
      ]
    },
    {
      "cell_type": "code",
      "source": [
        "for w in \"Yasson\":\n",
        "  print (w)"
      ],
      "metadata": {
        "colab": {
          "base_uri": "https://localhost:8080/"
        },
        "id": "GaeYKkL5BXi-",
        "outputId": "3aa60ee4-5511-4db9-b03a-2a7c58a82b07"
      },
      "execution_count": null,
      "outputs": [
        {
          "output_type": "stream",
          "name": "stdout",
          "text": [
            "Y\n",
            "a\n",
            "s\n",
            "s\n",
            "o\n",
            "n\n"
          ]
        }
      ]
    },
    {
      "cell_type": "markdown",
      "source": [
        "# FUNCION **range (star, stop, step)** "
      ],
      "metadata": {
        "id": "NAy4cHvKDVFn"
      }
    },
    {
      "cell_type": "markdown",
      "source": [
        "Cuando solo se pasa 1 parámetro a la función Range por defaul se le debe indicar donde se hace (stop). Esta funcion realiza 6 iteraciones y nos muestra 6 posiciones, tomando en cuenta el número cero (0) hasta el (5). No imprime números sino posiciones.\n"
      ],
      "metadata": {
        "id": "BbNfZtIDEHqu"
      }
    },
    {
      "cell_type": "code",
      "source": [
        "for i in range(6):\n",
        "  print (i)"
      ],
      "metadata": {
        "colab": {
          "base_uri": "https://localhost:8080/"
        },
        "id": "fx8aG91DDrau",
        "outputId": "8bc1fe4a-2611-4989-f1e5-763a0a0fc09d"
      },
      "execution_count": null,
      "outputs": [
        {
          "output_type": "stream",
          "name": "stdout",
          "text": [
            "0\n",
            "1\n",
            "2\n",
            "3\n",
            "4\n",
            "5\n"
          ]
        }
      ]
    },
    {
      "cell_type": "code",
      "source": [
        "for i in range(11):\n",
        "  print (i)"
      ],
      "metadata": {
        "colab": {
          "base_uri": "https://localhost:8080/"
        },
        "id": "mpiM4ASbFl9X",
        "outputId": "14be5dff-7cbc-4ee4-b5a0-e1cf7a243b8b"
      },
      "execution_count": null,
      "outputs": [
        {
          "output_type": "stream",
          "name": "stdout",
          "text": [
            "0\n",
            "1\n",
            "2\n",
            "3\n",
            "4\n",
            "5\n",
            "6\n",
            "7\n",
            "8\n",
            "9\n",
            "10\n"
          ]
        }
      ]
    },
    {
      "cell_type": "markdown",
      "source": [
        "Acá se muestra que inicia desde la posición (3) y tomará (11) posiciones"
      ],
      "metadata": {
        "id": "gx-73GFVF5dP"
      }
    },
    {
      "cell_type": "code",
      "source": [
        "for i in range(3,11):\n",
        "  print (i)"
      ],
      "metadata": {
        "colab": {
          "base_uri": "https://localhost:8080/"
        },
        "id": "PfgqUVKmFtia",
        "outputId": "9d6c2d4d-b150-4472-918b-7847e2680c63"
      },
      "execution_count": null,
      "outputs": [
        {
          "output_type": "stream",
          "name": "stdout",
          "text": [
            "3\n",
            "4\n",
            "5\n",
            "6\n",
            "7\n",
            "8\n",
            "9\n",
            "10\n"
          ]
        }
      ]
    },
    {
      "cell_type": "markdown",
      "source": [
        "Acá se muestra que inicia desde la posición (3) vaya hasta la posición (11) y sume o camine de (2) en (2) con: for i in range(3,11,2):"
      ],
      "metadata": {
        "id": "Z5l3PV3AGKcm"
      }
    },
    {
      "cell_type": "code",
      "source": [
        "for i in range(3,11,2):\n",
        "  print (i)"
      ],
      "metadata": {
        "colab": {
          "base_uri": "https://localhost:8080/"
        },
        "id": "r36oY2f_FeYS",
        "outputId": "6eaa516c-4113-43e8-cd10-bbe221b6bdfe"
      },
      "execution_count": null,
      "outputs": [
        {
          "output_type": "stream",
          "name": "stdout",
          "text": [
            "3\n",
            "5\n",
            "7\n",
            "9\n"
          ]
        }
      ]
    },
    {
      "cell_type": "markdown",
      "source": [
        "Con las funcion for y range, yo puedo mostrar el número de veces que yo le pida que lo haga e incluso que me muestre la iteración o posición que está ocupando."
      ],
      "metadata": {
        "id": "M_GFh7UAHXBT"
      }
    },
    {
      "cell_type": "code",
      "source": [
        "nombre = input(\"Digite su nombre: \")\n",
        "\n",
        "for i in range(6):\n",
        "  print(i,nombre)\n"
      ],
      "metadata": {
        "colab": {
          "base_uri": "https://localhost:8080/"
        },
        "id": "IUrSz3CKHn5t",
        "outputId": "beed51ca-4f41-4346-cf7a-80921c7aba8c"
      },
      "execution_count": null,
      "outputs": [
        {
          "output_type": "stream",
          "name": "stdout",
          "text": [
            "Digite su nombre: Yasson\n",
            "0 Yasson\n",
            "1 Yasson\n",
            "2 Yasson\n",
            "3 Yasson\n",
            "4 Yasson\n",
            "5 Yasson\n"
          ]
        }
      ]
    },
    {
      "cell_type": "markdown",
      "source": [
        "Escribir un programa que realice la tabla de multiplicar de un número digitado por teclado"
      ],
      "metadata": {
        "id": "YUqjr0heIfSS"
      }
    },
    {
      "cell_type": "code",
      "source": [
        "num = int(input(\"Digite el número de la tabla de multiplicar : \"))\n",
        "\n",
        "for i in range (11):\n",
        "  print(i,\"X\",num, \"=\", i * num)"
      ],
      "metadata": {
        "id": "u-5QQMmPIpxg"
      },
      "execution_count": null,
      "outputs": []
    },
    {
      "cell_type": "markdown",
      "source": [
        " **VARIABLES ACUMULADORAS**\n",
        "\n",
        " Escriba un programa que me sume los números pares del 0 al 10 y saque el total de la suma."
      ],
      "metadata": {
        "id": "iRQDLx65J2hv"
      }
    },
    {
      "cell_type": "code",
      "source": [
        "#variable acumuladoras\n",
        "acu = 0\n",
        "\n",
        "for i in range(0,11,2):\n",
        "  #print(i)\n",
        "  acu = acu + i\n",
        "  print(f\"El total de la suma de los números pares del 0 a la pos = {i} es= {acu}\")"
      ],
      "metadata": {
        "colab": {
          "base_uri": "https://localhost:8080/"
        },
        "id": "pjFXIf-3KP0L",
        "outputId": "04574705-0d2e-4eee-bac5-70b33b2f5a0f"
      },
      "execution_count": null,
      "outputs": [
        {
          "output_type": "stream",
          "name": "stdout",
          "text": [
            "El total de la suma de los números pares del 0 a la pos = 0 es= 0\n",
            "El total de la suma de los números pares del 0 a la pos = 2 es= 2\n",
            "El total de la suma de los números pares del 0 a la pos = 4 es= 6\n",
            "El total de la suma de los números pares del 0 a la pos = 6 es= 12\n",
            "El total de la suma de los números pares del 0 a la pos = 8 es= 20\n",
            "El total de la suma de los números pares del 0 a la pos = 10 es= 30\n"
          ]
        }
      ]
    },
    {
      "cell_type": "markdown",
      "source": [
        "Pero si solo quiero observar el resultado de la línea final, solo debo sacar el último print y se le quita la sangría o tap que le antecede y como puede observar se vera solo la línea final:\n"
      ],
      "metadata": {
        "id": "Dt1rbbHNMyNK"
      }
    },
    {
      "cell_type": "code",
      "source": [
        "#variable acumuladoras\n",
        "acu = 0\n",
        "\n",
        "for i in range(0,11,2):\n",
        "  #print(i)\n",
        "  acu = acu + i\n",
        "print(f\"El total de la suma de los números pares del 0-10 es= {acu}\")"
      ],
      "metadata": {
        "colab": {
          "base_uri": "https://localhost:8080/"
        },
        "id": "WKnefuS-Mxjv",
        "outputId": "66528239-b56c-4cfe-f835-e33f1f19567a"
      },
      "execution_count": null,
      "outputs": [
        {
          "output_type": "stream",
          "name": "stdout",
          "text": [
            "El total de la suma de los números pares del 0-10 es= 30\n"
          ]
        }
      ]
    },
    {
      "cell_type": "markdown",
      "source": [
        "**CICLO WHILE PYTHON**"
      ],
      "metadata": {
        "id": "fmAW4AEAPG8v"
      }
    },
    {
      "cell_type": "markdown",
      "source": [
        "La sentencia o bucle (while) en python es una sentencia de control de flujo que se utiliza para ejecutar un bloque de instrucciones de forma continuada mientras se cumpla una condición determinada. \n",
        "while (A = True), si es verdad vuelve y se ejecuta el ciclo, de lo contrario se detiene el ciclo.\n",
        "Syntaxis de escritura es: \n",
        "\n",
        "**while** *condición* **(:)**=> siempre terminamos la instrucción. \n",
        "  bloque de código\n",
        "  modificar variable condicional y terminamos la instrucción con *(:).*\n",
        "\n",
        "  Ejemplos:"
      ],
      "metadata": {
        "id": "rJYFy4OjSRE9"
      }
    },
    {
      "cell_type": "code",
      "source": [
        "x = 0\n",
        "while x < 10:\n",
        "  print(x)\n",
        "  x = x + 1\n"
      ],
      "metadata": {
        "colab": {
          "base_uri": "https://localhost:8080/"
        },
        "id": "OMXkRECZPaAp",
        "outputId": "f7aeba09-2b2b-4b72-d99e-6153765cff67"
      },
      "execution_count": null,
      "outputs": [
        {
          "output_type": "stream",
          "name": "stdout",
          "text": [
            "0\n",
            "1\n",
            "2\n",
            "3\n",
            "4\n",
            "5\n",
            "6\n",
            "7\n",
            "8\n",
            "9\n"
          ]
        }
      ]
    },
    {
      "cell_type": "markdown",
      "source": [
        "El ciclo while también me permite  realizar comparación de números"
      ],
      "metadata": {
        "id": "VbnwCPzOVEcV"
      }
    },
    {
      "cell_type": "code",
      "source": [
        "a = 5\n",
        "b = 100\n",
        "c = 10\n",
        "\n",
        "while a * c < b:\n",
        "  a = a + 5\n",
        "  c = c - 1\n",
        "print(\"a={}, b{}, c{}\".format(a,b,c))"
      ],
      "metadata": {
        "colab": {
          "base_uri": "https://localhost:8080/"
        },
        "id": "WbL9-41AWvxe",
        "outputId": "909d17dc-a1c6-4ad9-b921-ba6f5a3e947a"
      },
      "execution_count": null,
      "outputs": [
        {
          "output_type": "stream",
          "name": "stdout",
          "text": [
            "a=15, b100, c8\n"
          ]
        }
      ]
    },
    {
      "cell_type": "markdown",
      "source": [
        "Así mismo yo puedo agregar un ciclo dentro de otro ciclo, como veremos a continución en el mismo ejercicio ejecutado anteriormente. \n",
        "Posteriormente se selecciona desde la linea 3 hasta la 10 y se selecciona y se le agrega un tap para brindar identación o sangría y por ultimo "
      ],
      "metadata": {
        "id": "qcvvCQ_kYcjb"
      }
    },
    {
      "cell_type": "code",
      "source": [
        "resp = \"si\"\n",
        "while resp == \"si\":\n",
        "  a = 5\n",
        "  b = 100\n",
        "  c = 10\n",
        "\n",
        "  while a * c < b:\n",
        "    a = a + 5\n",
        "    c = c - 1\n",
        "  print(\"a={}, b{}, c{}\".format(a,b,c))\n",
        "  resp = input(\"¿Desea ejecutar de nuevo?(si/no)\")"
      ],
      "metadata": {
        "colab": {
          "base_uri": "https://localhost:8080/"
        },
        "id": "unLbY10_Y8Km",
        "outputId": "ab8292a7-bae2-4a7a-b775-af95ee061b66"
      },
      "execution_count": null,
      "outputs": [
        {
          "output_type": "stream",
          "name": "stdout",
          "text": [
            "a=15, b100, c8\n",
            "¿Desea ejecutar de nuevo?(si/no)si\n",
            "a=15, b100, c8\n",
            "¿Desea ejecutar de nuevo?(si/no)si\n",
            "a=15, b100, c8\n"
          ]
        }
      ]
    },
    {
      "cell_type": "markdown",
      "source": [
        "Si meto un valor distinto de **(si)** ejemplo **(SI)** este ultimo no lo toma, sin embargo puedo hacerlo validar con la función **(or)** "
      ],
      "metadata": {
        "id": "dtBmd5LqaWge"
      }
    },
    {
      "cell_type": "code",
      "source": [
        "resp = \"si\"\n",
        "while resp == \"si\" or resp ==\"SI\":\n",
        "  a = 5\n",
        "  b = 100\n",
        "  c = 10\n",
        "\n",
        "  while a * c < b:\n",
        "    a = a + 5\n",
        "    c = c - 1\n",
        "  print(\"a={}, b{}, c{}\".format(a,b,c))\n",
        "  resp = input(\"¿Desea ejecutar de nuevo?(si/no)\")"
      ],
      "metadata": {
        "id": "kdAmbFrTa3pK",
        "colab": {
          "base_uri": "https://localhost:8080/"
        },
        "outputId": "e4f15347-7ceb-4188-8d59-2b68757fbc3d"
      },
      "execution_count": null,
      "outputs": [
        {
          "name": "stdout",
          "output_type": "stream",
          "text": [
            "a=15, b100, c8\n",
            "¿Desea ejecutar de nuevo?(si/no)SI\n",
            "a=15, b100, c8\n",
            "¿Desea ejecutar de nuevo?(si/no)si\n",
            "a=15, b100, c8\n",
            "¿Desea ejecutar de nuevo?(si/no)no\n"
          ]
        }
      ]
    },
    {
      "cell_type": "markdown",
      "source": [
        "Se reuiere un sw que calcule promedio de tres materias, si es >= 3.0 el estado es Aprueba sino Reprueba, el sistema debe preguntar si desea realizar el cálculo de nuevo, en el caso de que la respuesta sea afirmativa lo debe realizar de nuevo"
      ],
      "metadata": {
        "id": "ruHIr3nAMbXT"
      }
    },
    {
      "cell_type": "markdown",
      "source": [
        "## ***Tarea encontrar un ejercicio y aplicar ciclos***"
      ],
      "metadata": {
        "id": "XhvQ44ggkWTD"
      }
    },
    {
      "cell_type": "code",
      "source": [
        "resp = \"si\"\n",
        "while resp == \"si\" or resp ==\"SI\" or resp==\"yes\":\n",
        "  cal1 = float(input(\"Digite la calificación 1:\"))\n",
        "  cal2 = float(input(\"Digite la calificación 2:\"))\n",
        "  cal3 = float(input(\"Digite la calificación 3:\"))\n",
        "\n",
        "  prom = round((cal1 + cal2 + cal3 )/3, 2)\n",
        "\n",
        "  if prom >= 3.0:\n",
        "    estado = \"Aprueba++\"\n",
        "  else:\n",
        "    estado = \"Reprueba--\"\n",
        "  print(f\"El promedio={prom} y el estado es= {estado}\")\n",
        "  resp = input(\"¿Desea cácular otras 3 califiaciones?: \")"
      ],
      "metadata": {
        "id": "-Kd9mbWkNPBR",
        "colab": {
          "base_uri": "https://localhost:8080/"
        },
        "outputId": "bf80562e-b496-41fe-e769-90e3fe81472a"
      },
      "execution_count": null,
      "outputs": [
        {
          "name": "stdout",
          "output_type": "stream",
          "text": [
            "Digite la calificación 1:3\n",
            "Digite la calificación 2:3.5\n",
            "Digite la calificación 3:4\n",
            "El promedio=3.5 y el estado es= Aprueba++\n",
            "¿Desea cácular otras 3 califiaciones?: si\n",
            "Digite la calificación 1:1\n",
            "Digite la calificación 2:3\n",
            "Digite la calificación 3:2\n",
            "El promedio=2.0 y el estado es= Reprueba--\n",
            "¿Desea cácular otras 3 califiaciones?: yes\n",
            "Digite la calificación 1:5\n",
            "Digite la calificación 2:5\n",
            "Digite la calificación 3:4.8\n",
            "El promedio=4.93 y el estado es= Aprueba++\n",
            "¿Desea cácular otras 3 califiaciones?: no\n"
          ]
        }
      ]
    },
    {
      "cell_type": "code",
      "source": [
        "resp = \"si\"\n",
        "while resp == \"si\":\n",
        "  num = int(input(\"Digite el número de la tabla de multiplicar : \"))\n",
        "\n",
        "  for i in range (11):\n",
        "    print(i,\"X\",num, \"=\", i * num)\n",
        "  resp = input(\"¿Desea cácular otra tabla de multiplicar?: \")\n"
      ],
      "metadata": {
        "colab": {
          "base_uri": "https://localhost:8080/"
        },
        "id": "JXRXXYP-kfGK",
        "outputId": "5d4f5969-27ec-432b-86cc-c8e9dfb40e78"
      },
      "execution_count": null,
      "outputs": [
        {
          "output_type": "stream",
          "name": "stdout",
          "text": [
            "Digite el número de la tabla de multiplicar : 3\n",
            "0 X 3 = 0\n",
            "1 X 3 = 3\n",
            "2 X 3 = 6\n",
            "3 X 3 = 9\n",
            "4 X 3 = 12\n",
            "5 X 3 = 15\n",
            "6 X 3 = 18\n",
            "7 X 3 = 21\n",
            "8 X 3 = 24\n",
            "9 X 3 = 27\n",
            "10 X 3 = 30\n",
            "¿Desea cácular otra tabla de multiplicar?: si\n",
            "Digite el número de la tabla de multiplicar : 4\n",
            "0 X 4 = 0\n",
            "1 X 4 = 4\n",
            "2 X 4 = 8\n",
            "3 X 4 = 12\n",
            "4 X 4 = 16\n",
            "5 X 4 = 20\n",
            "6 X 4 = 24\n",
            "7 X 4 = 28\n",
            "8 X 4 = 32\n",
            "9 X 4 = 36\n",
            "10 X 4 = 40\n"
          ]
        }
      ]
    },
    {
      "cell_type": "code",
      "source": [
        "resp = \"si\"\n",
        "while resp == \"si\" or resp ==\"SI\" or resp==\"yes\":\n",
        "  #variable captura sueldo_basico\n",
        "  sueldo = float(input(\"Digite el sueldo empleado: $\"))\n",
        "  dias_laborados = int(input(\"Digite dias laborados por el empleado: \")) \n",
        "\n",
        "  #condicional\n",
        "  if sueldo <= 1000000 and dias_laborados >= 20:\n",
        "    print(\"Por trabajar {} dias del mes y devengar un salario de ${:,.0f} usted tiene derecho a un bono de alimentacion\".format(dias_laborados,sueldo))\n",
        "  else:\n",
        "    print(\"Usted no tiene derecho a bono de alimentación\")\n",
        "  resp = input(\"¿Desea validar otro empleado ?: \")"
      ],
      "metadata": {
        "id": "XfrUmmaaqrmU",
        "colab": {
          "base_uri": "https://localhost:8080/"
        },
        "outputId": "3613d19a-4070-4088-bc52-f31c8f38acb6"
      },
      "execution_count": 1,
      "outputs": [
        {
          "name": "stdout",
          "output_type": "stream",
          "text": [
            "Usted no tiene derecho a bono de alimentación\n",
            "Por trabajar 30 dias del mes y devengar un salario de $900,000 usted tiene derecho a un bono de alimentacion\n",
            "¿Desea validar otro empleado ?: no\n"
          ]
        }
      ]
    },
    {
      "cell_type": "markdown",
      "source": [
        "# ***FUNCIONES EN PHYTON***"
      ],
      "metadata": {
        "id": "NRPIteuzilky"
      }
    },
    {
      "cell_type": "markdown",
      "source": [
        "Declaración de una Función una **variable Local** está dentro de la función **varible Global** está fuera de la función"
      ],
      "metadata": {
        "id": "KDZosbMsisYn"
      }
    },
    {
      "cell_type": "code",
      "source": [
        "def suma():\n",
        "  num1 = 4\n",
        "  num2 = 6\n",
        "  res = num1 + num2 \n",
        "  print(f\"El resultado es= {res}\")\n",
        "suma() "
      ],
      "metadata": {
        "colab": {
          "base_uri": "https://localhost:8080/"
        },
        "id": "h46FmZ-wQB-c",
        "outputId": "9a609703-4cca-4134-8329-924720c0b71d"
      },
      "execution_count": null,
      "outputs": [
        {
          "output_type": "stream",
          "name": "stdout",
          "text": [
            "El resultado es= 10\n"
          ]
        }
      ]
    },
    {
      "cell_type": "code",
      "source": [
        "def suma():\n",
        "  num1 = 4\n",
        "  num2 = 6\n",
        "  res = num1 + num2 \n",
        "  print(f\"El resultado es= {res}\")\n",
        "\n",
        "num1 = int(input(\"Digite el número 1: \"))\n",
        "num1 = int(input(\"Digite el número 2: \"))\n",
        "#print (res)\n",
        "suma(num1, num2) "
      ],
      "metadata": {
        "colab": {
          "base_uri": "https://localhost:8080/"
        },
        "id": "PGdDWP6-RoIg",
        "outputId": "9dfc3b59-ed55-4d1d-9bbb-e9594a2de3e3"
      },
      "execution_count": null,
      "outputs": [
        {
          "output_type": "stream",
          "name": "stdout",
          "text": [
            "Digite el número 1: 2\n",
            "Digite el número 2: 2\n",
            "El resultado es= 10\n"
          ]
        }
      ]
    },
    {
      "cell_type": "code",
      "source": [
        "def suma(n1, n2):\n",
        "  \n",
        "  res = n1 + n2 \n",
        "  print(f\"El resultado es= {res}\")\n",
        "\n",
        "num1 = int(input(\"Digite el número 1: \"))\n",
        "num2 = int(input(\"Digite el número 2: \"))\n",
        "#print(n1)\n",
        "suma(num1, num2) "
      ],
      "metadata": {
        "id": "6JneRCGJTHWn",
        "colab": {
          "base_uri": "https://localhost:8080/"
        },
        "outputId": "249da614-49f4-412e-beeb-13e747a8d17d"
      },
      "execution_count": 6,
      "outputs": [
        {
          "output_type": "stream",
          "name": "stdout",
          "text": [
            "Digite el número 1: 10\n",
            "Digite el número 2: 10\n",
            "El resultado es= 20\n"
          ]
        }
      ]
    },
    {
      "cell_type": "markdown",
      "source": [
        "**FUNCIONES PARA DEVOLVER O RETORNAR EL RESULTADO**"
      ],
      "metadata": {
        "id": "grLX8amy35IX"
      }
    },
    {
      "cell_type": "code",
      "source": [
        "def suma(n1, n2):\n",
        "  \n",
        "  res = n1 + n2 \n",
        "  return res\n",
        "\n",
        "num1 = int(input(\"Digite el número 1: \"))\n",
        "num2 = int(input(\"Digite el número 2: \"))\n",
        "#print(n1)\n",
        "suma(num1, num2) "
      ],
      "metadata": {
        "colab": {
          "base_uri": "https://localhost:8080/"
        },
        "id": "aVAd8uje3eMn",
        "outputId": "3248f17e-ed4c-41a7-dcda-129b3daa8273"
      },
      "execution_count": 7,
      "outputs": [
        {
          "name": "stdout",
          "output_type": "stream",
          "text": [
            "Digite el número 1: 5\n",
            "Digite el número 2: 5\n"
          ]
        },
        {
          "output_type": "execute_result",
          "data": {
            "text/plain": [
              "10"
            ]
          },
          "metadata": {},
          "execution_count": 7
        }
      ]
    },
    {
      "cell_type": "markdown",
      "source": [
        "**en esta incluiremos el ejercicio anterior, ahora incluyendo mejoras en el resultado de salida en el mensaje.**"
      ],
      "metadata": {
        "id": "iQPaU3KW4rWp"
      }
    },
    {
      "cell_type": "code",
      "source": [
        "def suma(n1, n2):\n",
        "  \n",
        "  res = n1 + n2 \n",
        "  return res\n",
        "\n",
        "num1 = int(input(\"Digite el número 1: \"))\n",
        "num2 = int(input(\"Digite el número 2: \"))\n",
        "#print(n1)\n",
        "resultado = suma (num1,num2)\n",
        "print(f\"El resultado es = {resultado}\") "
      ],
      "metadata": {
        "colab": {
          "base_uri": "https://localhost:8080/"
        },
        "id": "IxuI_AdV49ZR",
        "outputId": "3564e8d3-b692-4ab8-88b8-a45c1040249b"
      },
      "execution_count": 8,
      "outputs": [
        {
          "output_type": "stream",
          "name": "stdout",
          "text": [
            "Digite el número 1: 5\n",
            "Digite el número 2: 5\n",
            "El resultado es = 10\n"
          ]
        }
      ]
    },
    {
      "cell_type": "code",
      "source": [
        "x = 4 \n",
        "def oper(a):\n",
        "  a = a * a\n",
        "  return a \n",
        "resultado = oper (x)\n",
        "print(resultado)"
      ],
      "metadata": {
        "colab": {
          "base_uri": "https://localhost:8080/"
        },
        "id": "NkhJdH-1CMN1",
        "outputId": "6e55436c-c59d-4eb1-d4fe-2e73ef1b95c3"
      },
      "execution_count": 10,
      "outputs": [
        {
          "output_type": "stream",
          "name": "stdout",
          "text": [
            "16\n"
          ]
        }
      ]
    },
    {
      "cell_type": "code",
      "source": [
        "x = 6\n",
        "def oper(a):\n",
        "  x = a * a\n",
        "  \n",
        "oper(x)\n",
        "resultado = x\n",
        "print(resultado)"
      ],
      "metadata": {
        "colab": {
          "base_uri": "https://localhost:8080/"
        },
        "id": "OGJsru3OC_81",
        "outputId": "6e8ac23c-a847-4654-e98f-0fe08250f363"
      },
      "execution_count": 11,
      "outputs": [
        {
          "output_type": "stream",
          "name": "stdout",
          "text": [
            "6\n"
          ]
        }
      ]
    },
    {
      "cell_type": "markdown",
      "source": [
        "**Otro ejemplo en clase**"
      ],
      "metadata": {
        "id": "h2TuzAlOFlGG"
      }
    },
    {
      "cell_type": "code",
      "source": [
        "def saludar(nom):\n",
        "  print(\"Hola \" + nom + \"!!!\")\n",
        "\n",
        "\n",
        "nombre = input(\"Digote su nombre para ser saludado: \")\n",
        "saludar(nombre)"
      ],
      "metadata": {
        "colab": {
          "base_uri": "https://localhost:8080/"
        },
        "id": "C7lylRvfFKSH",
        "outputId": "cb104738-8534-476c-a10b-102035efb14e"
      },
      "execution_count": 13,
      "outputs": [
        {
          "output_type": "stream",
          "name": "stdout",
          "text": [
            "Digote su nombre para ser saludado: YASSON\n",
            "Hola YASSON!!!\n"
          ]
        }
      ]
    },
    {
      "cell_type": "markdown",
      "source": [
        "En este podemos apreciar el ejemplo anterior y añadiremos un ciclo WHILE "
      ],
      "metadata": {
        "id": "7_CvFE5YGtEN"
      }
    },
    {
      "cell_type": "code",
      "source": [
        "def saludar(nom):\n",
        "  print(\"Hola \" + nom + \"!!!\")\n",
        "\n",
        "resp = \"si\"\n",
        "while resp == \"si\" or resp ==\"SI\":\n",
        "  nombre = input(\"Digíte su nombre para ser saludado: \")\n",
        "  saludar(nombre)\n",
        "  resp = input(\"¿Desea saludar otra persona \")"
      ],
      "metadata": {
        "colab": {
          "base_uri": "https://localhost:8080/"
        },
        "id": "VqS-aQxzG6SE",
        "outputId": "7d389218-317c-4849-abcd-625035496834"
      },
      "execution_count": 17,
      "outputs": [
        {
          "name": "stdout",
          "output_type": "stream",
          "text": [
            "Digíte su nombre para ser saludado: YASSON\n",
            "Hola YASSON!!!\n",
            "¿Desea saludar otra persona SI\n",
            "Digíte su nombre para ser saludado: THOT\n",
            "Hola THOT!!!\n",
            "¿Desea saludar otra persona NO\n"
          ]
        }
      ]
    },
    {
      "cell_type": "markdown",
      "source": [
        "Necesitamos saber si el usuario es alto o chaparro. Chaparro es aquel que mide cuando mucho 1.50 mts. Debe preguntar si desea realizarlo de nuevo."
      ],
      "metadata": {
        "id": "1I3KnhQ4LZwA"
      }
    },
    {
      "cell_type": "code",
      "source": [
        "def valestatura(est):\n",
        "  if est >1.50:\n",
        "    print(\"Eres una persona ALTA\")\n",
        "  else:\n",
        "    print(\"Eres una persona CHAPARRA\")\n",
        "\n",
        "resp = \"si\"\n",
        "while resp == \"si\":\n",
        "  estatura = float(input(\"Digíte su estatura: \"))\n",
        "  valestatura(estatura)\n",
        "  resp= input (\"Desea realizar otra comparación? \")"
      ],
      "metadata": {
        "colab": {
          "base_uri": "https://localhost:8080/"
        },
        "id": "WzM3bFwwH8TW",
        "outputId": "93d378d0-ca87-4ffc-de80-9dfc973a2b7f"
      },
      "execution_count": 19,
      "outputs": [
        {
          "name": "stdout",
          "output_type": "stream",
          "text": [
            "Digíte su estatura: 1.70\n",
            "Eres una persona ALTA\n",
            "Desea realizar otra comparación? si\n",
            "Digíte su estatura: 1.30\n",
            "Eres una persona CHAPARRA\n",
            "Desea realizar otra comparación? si\n",
            "Digíte su estatura: 1.80\n",
            "Eres una persona ALTA\n",
            "Desea realizar otra comparación? no\n"
          ]
        }
      ]
    }
  ]
}